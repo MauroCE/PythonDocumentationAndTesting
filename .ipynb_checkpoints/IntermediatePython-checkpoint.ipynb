{
 "cells": [
  {
   "cell_type": "markdown",
   "metadata": {},
   "source": [
    "# Intermediate Python"
   ]
  },
  {
   "cell_type": "markdown",
   "metadata": {},
   "source": [
    "## Setting Up the PyCharm Project"
   ]
  },
  {
   "cell_type": "markdown",
   "metadata": {},
   "source": [
    "The first thing that we want to learn to do is to use PyCharm. To do this, we open PyCharm and **create a new project**. "
   ]
  },
  {
   "cell_type": "markdown",
   "metadata": {},
   "source": [
    "![some](images/newproject.png)"
   ]
  },
  {
   "cell_type": "markdown",
   "metadata": {},
   "source": [
    "Next we choose a name and under `New environment using` we select `Conda` from the dropdown."
   ]
  },
  {
   "cell_type": "markdown",
   "metadata": {},
   "source": [
    "![](images/environment.png)"
   ]
  },
  {
   "cell_type": "markdown",
   "metadata": {},
   "source": [
    "Finally, you'll be welcomed with the opened Project in PyCharm, which looks as follows."
   ]
  },
  {
   "cell_type": "markdown",
   "metadata": {},
   "source": [
    "![](images/pycharmproject.png)"
   ]
  },
  {
   "cell_type": "markdown",
   "metadata": {},
   "source": [
    "## Creating a New Package and New files"
   ]
  },
  {
   "cell_type": "markdown",
   "metadata": {},
   "source": [
    "We can now right click on the project name, in this case `Intermediate Python`, tab on the left side of the screen and select `New` and then `Python Package` and give it a name, in this case `BootstrapFilter`. This will create a new folder of the same name, with inside it a python script called `__init__.py`. "
   ]
  },
  {
   "cell_type": "markdown",
   "metadata": {},
   "source": [
    "![pythonpackage](images/pythonpackage.png)"
   ]
  },
  {
   "cell_type": "markdown",
   "metadata": {},
   "source": [
    "Next, following the same proceedure, we click on `New` and then `Python file` and create a new python file called `BootstrapFilter.py`. This will contain code for the `BootstrapFilter` class which will be applied on a classic (and simple) SMC filtering example."
   ]
  },
  {
   "cell_type": "markdown",
   "metadata": {},
   "source": [
    "We start by stating the necessary imports:"
   ]
  },
  {
   "cell_type": "code",
   "execution_count": 3,
   "metadata": {},
   "outputs": [],
   "source": [
    "import numpy as np\n",
    "import matplotlib.pyplot as plt\n",
    "from scipy import stats"
   ]
  },
  {
   "cell_type": "markdown",
   "metadata": {},
   "source": [
    "We notice that in Pycharm these package appear with a red wiggly line undernear, this means that they haven't been installed in the current environment. "
   ]
  },
  {
   "cell_type": "markdown",
   "metadata": {},
   "source": [
    "![](images/packages.png)"
   ]
  },
  {
   "cell_type": "markdown",
   "metadata": {},
   "source": [
    "We can hover on such packages and click `install package ..`. "
   ]
  },
  {
   "cell_type": "markdown",
   "metadata": {},
   "source": [
    "## Bootstrap Filter Class"
   ]
  },
  {
   "cell_type": "markdown",
   "metadata": {},
   "source": [
    "Next, we write a bootstrap filter class. Remember that a boostrap filter comprises two processes:\n",
    "\n",
    "- A **Markov Process** $\\{X_t: t\\in \\mathbb{N}\\}$ with initial distribution $p(x_0)$ and transition distribution $p(x_t \\mid x_{t-1})$. This process is **hidden** from the observer.\n",
    "\n",
    "- A process $\\{Y_t: t\\in \\mathbb{N}_{+}\\}$ of conditionally independent random variables, given the Markov process, with **emission** probability $p(y_t\\mid x_t)$."
   ]
  },
  {
   "cell_type": "markdown",
   "metadata": {},
   "source": [
    "This means that the whole system is described by three equations:\n",
    "$$\n",
    "p(x_0) \\\\\n",
    "p(x_t \\mid x_{t-1}) \\qquad t=1, 2, \\ldots \\\\\n",
    "p(y_t \\mid x_t) \\qquad t=1, 2, \\ldots\n",
    "$$"
   ]
  },
  {
   "cell_type": "markdown",
   "metadata": {},
   "source": [
    "Our class only takes $5$ inputs:\n",
    "\n",
    "- The initial distribution $p(x_0)$\n",
    "- The transition distribution $p(x_t\\mid x_{t-1}$\n",
    "- The likelihood function $p(y_t \\mid x_t)$\n",
    "- The number of particles $n$\n",
    "- The observed data $y_1, \\ldots, y_{t_{\\text{max}}}$ where $t_{\\text{max}}$ is the number of time steps used to generate the data."
   ]
  },
  {
   "cell_type": "markdown",
   "metadata": {},
   "source": [
    "We can see the class definition below."
   ]
  },
  {
   "cell_type": "code",
   "execution_count": 5,
   "metadata": {},
   "outputs": [],
   "source": [
    "import numpy as np\n",
    "import matplotlib.pyplot as plt\n",
    "from scipy import stats\n",
    "\n",
    "\n",
    "class BootstrapFilter:\n",
    "    \"\"\"Base class implementing a BootstrapFilter (see Sequential Monte Carlo in Practice - A. Doucet, page 11).\"\"\"\n",
    "    def __init__(self, p_x0, transition, likelihood, n, y):\n",
    "        \"\"\"Constructor of BootstrapFilter. It takes the marginal prior probability p(x_0), the transition probability\n",
    "        p(x_t | x_{t-1}) and the likelihood density function p(y_t | x_t). Notice that since this SMC algorithm is a\n",
    "        BootstrapFilter weights are found by evaluating the likelihood.\"\"\"\n",
    "        # Store values into fields and functions into methods\n",
    "        self._initial_sampler = p_x0\n",
    "        self._transition = transition\n",
    "        self._likelihood = likelihood\n",
    "        self.n = n\n",
    "        self.y = y\n",
    "        self.t_max = np.size(self.y, 0)\n",
    "        self.x = np.zeros((self.t_max, self.n))\n",
    "\n",
    "    def initial_sampler(self):\n",
    "        return self._initial_sampler(n=self.n)\n",
    "\n",
    "    def transition(self, x, t):\n",
    "        return self._transition(x, t)\n",
    "\n",
    "    def likelihood(self, y_t, x_t):\n",
    "        return self._likelihood(y_t=y_t, x_t=x_t)\n",
    "\n",
    "    def run(self):\n",
    "        # Sample from the initial distribution\n",
    "        self.x[0, :] = np.ravel(self.initial_sampler())\n",
    "        for t in range(1, self.t_max):\n",
    "            # Go forward in time in the hidden Markov chain using transition probability\n",
    "            self.x[t, ] = self.transition(self.x[t-1, ], t)\n",
    "            # Compute importance weights using likelihood function\n",
    "            weights = self.likelihood(y_t=self.y[t, ], x_t=self.x[t, ])\n",
    "            weights = weights / np.sum(weights)\n",
    "            # Resample the particles according to the weights\n",
    "            resampled_indexes = np.random.choice(np.arange(self.n), size=self.n, replace=True, p=weights)\n",
    "            self.x = self.x[:, resampled_indexes]\n",
    "\n",
    "    def __repr__(self):\n",
    "        return \"BootstrapFilter(p_x0={}, transition={}, likelihood={}, n={}, y={})\".format(\n",
    "            self._initial_sampler, self._transition, self._likelihood, self.n, self.y\n",
    "        )\n",
    "\n",
    "    def __str__(self):\n",
    "        return \"Object of Class BootstrapFilter implementing a basic SMC algorithm.\""
   ]
  },
  {
   "cell_type": "markdown",
   "metadata": {},
   "source": [
    "We can apply it to a classical problem by Gordon et al (1993) by defining the following functions"
   ]
  },
  {
   "cell_type": "markdown",
   "metadata": {},
   "source": [
    "### Initial Distribution"
   ]
  },
  {
   "cell_type": "markdown",
   "metadata": {},
   "source": [
    "$$X_0 \\sim  \\mathcal{N}(0, 10)$$"
   ]
  },
  {
   "cell_type": "code",
   "execution_count": 7,
   "metadata": {},
   "outputs": [],
   "source": [
    "def initial_sampler(n):\n",
    "    \"\"\"\n",
    "    Function used to sample the hidden state at the beginning of the algorithm, p(x_0). In this case it is a MVN where\n",
    "    the mean is zero and the variance-covariance matrix is diagonal with variances all equal to b**2 / (1 - a**2).\n",
    "    \"\"\"\n",
    "    return np.random.normal(loc=0.0, scale=np.sqrt(10), size=(n, 1))"
   ]
  },
  {
   "cell_type": "markdown",
   "metadata": {},
   "source": [
    "### Transition Distribution"
   ]
  },
  {
   "cell_type": "markdown",
   "metadata": {},
   "source": [
    "$$x_t \\mid x_{t-1} \\sim \\frac{1}{2}x_{t-1} + 25\\frac{x_{t-1}}{1+x_{t-1}^2} + 8\\cos(1.2t) + \\mathcal{N}(0, 10)$$"
   ]
  },
  {
   "cell_type": "code",
   "execution_count": 9,
   "metadata": {},
   "outputs": [],
   "source": [
    "def transition(x, t):\n",
    "    \"\"\"\n",
    "    Transition probability used to move forward in time by the hidden Markov chain. Parameters a and b are used to scale\n",
    "    the mean and the variance-covariance matrix of a MVN respectively. It simply samples from a MVN.\n",
    "    \"\"\"\n",
    "    mean = 0.5*x + 25*(x / (1 + x**2)) + 8*np.cos(1.2*t)\n",
    "    return np.random.normal(loc=mean, scale=np.sqrt(10))"
   ]
  },
  {
   "cell_type": "markdown",
   "metadata": {},
   "source": [
    "### Likelihood Function / Emission"
   ]
  },
  {
   "cell_type": "markdown",
   "metadata": {},
   "source": [
    "$$y_t \\mid x_t \\sim \\mathcal{N}\\left(\\frac{x_t^2}{20}, 1.0\\right)$$"
   ]
  },
  {
   "cell_type": "code",
   "execution_count": 10,
   "metadata": {},
   "outputs": [],
   "source": [
    "def likelihood(y_t, x_t):\n",
    "    \"\"\"\n",
    "    Likelihood function p(y_t | x_t) used to compute weights. It returns the value of a multivariate normal distribution\n",
    "    at y_t, with mean [0, 0] and diagonal variance-covariance matrix scaled by (b * np.exp(x / 2))**2\n",
    "    \"\"\"\n",
    "    return stats.norm.pdf(x=y_t, loc=(x_t**2/20), scale=1.0)\n",
    "\n",
    "\n",
    "def emission(x_t):\n",
    "    \"\"\"\n",
    "    Emission probability used to generate the data.\n",
    "    \"\"\"\n",
    "    return np.random.normal(loc=(x_t**2/20), scale=1.0)"
   ]
  },
  {
   "cell_type": "markdown",
   "metadata": {},
   "source": [
    "## Data set Creation"
   ]
  },
  {
   "cell_type": "markdown",
   "metadata": {},
   "source": [
    "Now that we've defined some specific distributions, we can start generating the data. In this case we choose to simulate $t_{\\text{max}}=100$ data points (excluding $x_0$) as follows:"
   ]
  },
  {
   "cell_type": "code",
   "execution_count": 16,
   "metadata": {},
   "outputs": [],
   "source": [
    "np.random.seed(12345)\n",
    "t_max = 100                       # Maximum time t up to which we generate data\n",
    "n = 100                           # Number of particles\n",
    "dim = 1                           # Number of dimensions. For illustrative purposes will be 1\n",
    "x = np.zeros((t_max+1, dim))      # Container for x hidden values\n",
    "y = np.zeros((t_max+1, dim))      # Container for y observed values\n",
    "x[0, :] = initial_sampler(n=1)    # Sample x_0 from the initial distribution\n",
    "y[0, :] = np.nan                  # Set y_0 to be NA since observed process starts at y_1\n",
    "# Alternate between transition and emission sampling\n",
    "for t in range(1, t_max+1):\n",
    "    x[t, :] = transition(x[t-1, :], t)   # Sample x_t from the transition distribution p(x_t | x_{t-1})\n",
    "    y[t, :] = emission(x[t, :])       # Sample y_t given x_t from the emission distribution p(y_t | x_t)"
   ]
  },
  {
   "cell_type": "markdown",
   "metadata": {},
   "source": [
    "We can have a look at the data by plotting the hidden values."
   ]
  },
  {
   "cell_type": "code",
   "execution_count": 17,
   "metadata": {},
   "outputs": [
    {
     "data": {
      "image/png": "[encoded data removed]",
      "text/plain": [
       "<Figure size 432x288 with 1 Axes>"
      ]
     },
     "metadata": {
      "needs_background": "light"
     },
     "output_type": "display_data"
    }
   ],
   "source": [
    "plt.plot(x)\n",
    "plt.show()"
   ]
  },
  {
   "cell_type": "markdown",
   "metadata": {},
   "source": [
    "## Running the Model"
   ]
  },
  {
   "cell_type": "markdown",
   "metadata": {},
   "source": [
    "We run the model and check that it does indeed produce good results."
   ]
  },
  {
   "cell_type": "code",
   "execution_count": 18,
   "metadata": {},
   "outputs": [
    {
     "data": {
      "image/png": "[encoded data removed]",
      "text/plain": [
       "<Figure size 432x288 with 1 Axes>"
      ]
     },
     "metadata": {
      "needs_background": "light"
     },
     "output_type": "display_data"
    }
   ],
   "source": [
    "model = BootstrapFilter(p_x0=initial_sampler, transition=transition, likelihood=likelihood, n=n, y=y)\n",
    "model.run()\n",
    "\n",
    "# TAKE THE MEAN OF THE CHAINS\n",
    "means = np.mean(model.x, axis=1)\n",
    "fig, ax = plt.subplots()\n",
    "ax.plot(np.arange(101), means)\n",
    "ax.plot(np.arange(101), x)\n",
    "plt.show()"
   ]
  },
  {
   "cell_type": "markdown",
   "metadata": {},
   "source": [
    "# Documenting Code using Sphinx"
   ]
  },
  {
   "cell_type": "markdown",
   "metadata": {},
   "source": [
    "### Installing Sphinx"
   ]
  },
  {
   "cell_type": "markdown",
   "metadata": {},
   "source": [
    "`Sphinx` is by far the most widely used package to generate documentation from code in Python. In order to generate the documentation, we first need to install the package. Thus we navigate `File > Settings > Project: Intermediate Python > Project Interpreter`. Here we press the `+` sign to add new packages. Here we look for `sphinx` and click `Install Package`. "
   ]
  },
  {
   "cell_type": "markdown",
   "metadata": {},
   "source": [
    "![](images/sphinx.png)"
   ]
  },
  {
   "cell_type": "markdown",
   "metadata": {},
   "source": [
    "### Sphinx Quickstart"
   ]
  },
  {
   "cell_type": "markdown",
   "metadata": {},
   "source": [
    "Now we open a terminal and `cd` into the folder `IntermediatePython`, i.e. the project folder. Here we create a new directory called `docs`."
   ]
  },
  {
   "cell_type": "markdown",
   "metadata": {},
   "source": [
    "![](images/docs.png)"
   ]
  },
  {
   "cell_type": "markdown",
   "metadata": {},
   "source": [
    "Now we can `cd` into the `docs` folder and run `sphinx-quickstart`. We will be propted with a dialog looking similar to this (depending on the sphinx version):"
   ]
  },
  {
   "cell_type": "markdown",
   "metadata": {},
   "source": [
    "![](images/quickstart.png)"
   ]
  },
  {
   "cell_type": "markdown",
   "metadata": {},
   "source": [
    "We want to keep the source and the build directories separate because this is helpful when creating multiple documentation formats for different products. Next, we give the project name and release and accept the default options, as shown below:"
   ]
  },
  {
   "cell_type": "markdown",
   "metadata": {},
   "source": [
    "![](images/options.png)"
   ]
  },
  {
   "cell_type": "markdown",
   "metadata": {},
   "source": [
    "At this point, inside the `docs` directory, we should have the following:\n",
    "\n",
    "- a `build` directory, where the built version of the documentation will be generated.\n",
    "- a `source` directory where all the files creating the documentation will be hosted.\n",
    "- a `make.bat` and a `Make` file that allow us to create documentation by simply running `make html` or `make pdf` in either Windows or Linux."
   ]
  },
  {
   "cell_type": "markdown",
   "metadata": {},
   "source": [
    "### Our first documentation generation"
   ]
  },
  {
   "cell_type": "markdown",
   "metadata": {},
   "source": [
    "We can now run `make html` and we should see an output similar to this, saying that everything went fine and the documentation has been generated."
   ]
  },
  {
   "cell_type": "markdown",
   "metadata": {},
   "source": [
    "![](images/makehtml.png)"
   ]
  },
  {
   "cell_type": "markdown",
   "metadata": {},
   "source": [
    "We can now navigate `build > html` and open the `index.html` script in PyCharm. Hovering our mouse on top of the script will pop up 3 icons on the top right, prompting us to display the html in Chrome, Mozilla or Opera. Clicking on one of them we can see that a documentation has been generated."
   ]
  },
  {
   "cell_type": "markdown",
   "metadata": {},
   "source": [
    "![](images/documentation.png)"
   ]
  },
  {
   "cell_type": "markdown",
   "metadata": {},
   "source": [
    "### Automatic Documentation"
   ]
  },
  {
   "cell_type": "markdown",
   "metadata": {},
   "source": [
    "The **autodoc** feature of sphinx allow us to simply specify which script we want to document and sphinx will document functions and classes within it. To enable the autodoc feature we open the `config.py` file (in the `source` directory) and we replace `extensions = []` with `extensions = ['sphinx.ext.autodoc']`."
   ]
  },
  {
   "cell_type": "markdown",
   "metadata": {},
   "source": [
    "To document the `BootstrapFilter` package, we create a new `.rst` file in the `source` directory and give it the same name, but different extension: `BootstrapFilter.rst`. This file will produce a page for the documentation of the package. The `.rst` file can look similar to this:"
   ]
  },
  {
   "cell_type": "markdown",
   "metadata": {},
   "source": [
    "```\n",
    "BootstrapFilter package\n",
    "=======================\n",
    "\n",
    "\n",
    "BootstrapFilter.BootstrapFilter module\n",
    "--------------------------------------\n",
    "\n",
    ".. automodule:: BootstrapFilter.BootstrapFilter\n",
    ".. autoclass:: BootstrapFilter\n",
    "    :members:\n",
    "```"
   ]
  },
  {
   "cell_type": "markdown",
   "metadata": {},
   "source": [
    "When underlining some text with `==` we are creating a title. When underlining text with `--`, it is a subtitle. The most important thing is that we want to tell sphinx that it should auto-document the whole module `BootstrapFilter.py`. This is available as a module inside the `BootstrapFilter` package, so we need to use the dot notation to access it. \n",
    "\n",
    "```.. automodule:: BootstrapFilter.BootstrapFilter```"
   ]
  },
  {
   "cell_type": "markdown",
   "metadata": {},
   "source": [
    "In this module, we are particularly interested in documenting all the methods of the class `BootstrapFilter` so we use the `.. autoclass::` directive, specifying the name of the class. Underneath it, we can use `:members:`, which will take care of documenting every method. Every method, except the constructor `__init__()`. To document also the constructor we open `config.py` and at the end of the file we add this setting."
   ]
  },
  {
   "cell_type": "code",
   "execution_count": 2,
   "metadata": {},
   "outputs": [],
   "source": [
    "# To show the docstring from the constructor __init__() of a class.\n",
    "autoclass_content = 'both'"
   ]
  },
  {
   "cell_type": "markdown",
   "metadata": {},
   "source": [
    "Next, we go into the `index.rst` file and under `:caption: Contents:` we put the names of all the `.rst` files that we want to include in our documentation's table of contents. In this case we add `Bootstrap`, as shown below."
   ]
  },
  {
   "cell_type": "markdown",
   "metadata": {},
   "source": [
    "```\n",
    ".. Bootstrap Filter documentation master file, created by\n",
    "   sphinx-quickstart on Tue May 26 10:18:17 2020.\n",
    "   You can adapt this file completely to your liking, but it should at least\n",
    "   contain the root `toctree` directive.\n",
    "\n",
    "Welcome to the Python Documenting and Testing Portfolio's documentation!\n",
    "========================================================================\n",
    "\n",
    ".. image:: images/hhm.png\n",
    "\n",
    ".. toctree::\n",
    "   :maxdepth: 3\n",
    "   :caption: Contents:\n",
    "\n",
    "   BootstrapFilter\n",
    "\n",
    "Indices and tables\n",
    "==================\n",
    "\n",
    "* :ref:`genindex`\n",
    "* :ref:`modindex`\n",
    "* :ref:`search`\n",
    "\n",
    "```"
   ]
  },
  {
   "cell_type": "markdown",
   "metadata": {},
   "source": [
    "There's one last thing to do, we need to tell it the directory where it can find the package. We therefore open the `config.py` script again and we type the following at the top of the file (it could be already commented, in some versions)"
   ]
  },
  {
   "cell_type": "code",
   "execution_count": 3,
   "metadata": {},
   "outputs": [],
   "source": [
    "# If extensions (or modules to document with autodoc) are in another directory,\n",
    "# add these directories to sys.path here. If the directory is relative to the\n",
    "# documentation root, use os.path.abspath to make it absolute, like shown here.\n",
    "import os\n",
    "import sys\n",
    "# os.path.abspath('.') returns the path to <Project Name>/docs/source\n",
    "# os.path.abspath('..') goes up a directory, i.e. <Project Name>/docs\n",
    "# os.path.abspath('../..') goes up another directory, i.e. <Project Name>/\n",
    "sys.path.insert(0, os.path.abspath('../..'))"
   ]
  },
  {
   "cell_type": "markdown",
   "metadata": {},
   "source": [
    "Essentially what this bit of code is doing, is to add the path to `<Project>` to the path variables. In this way sphinx can find the package. Just to check that our understanding is correct, we can create a new module called `Trees` under the directory `IntermediatePython`. In this module we define a simple `Node` class that allows us to define a tree and a function, which is not part of the class, that prints out a tree."
   ]
  },
  {
   "cell_type": "code",
   "execution_count": 5,
   "metadata": {},
   "outputs": [],
   "source": [
    "class Node:\n",
    "    \"\"\"A class implementing a tree.\"\"\"\n",
    "\n",
    "    def __init__(self, value):\n",
    "        \"\"\"Constructor. Takes the value of the node and initializes the right and the left child to None (i.e. it has no\n",
    "        children).\n",
    "        \n",
    "        Parameters\n",
    "        ----------\n",
    "        value : int\n",
    "                Value of the node\n",
    "        \"\"\"\n",
    "        self.value = value\n",
    "        self.right = None\n",
    "        self.left = None\n",
    "\n",
    "    def append_left_child(self, child_value):\n",
    "        \"\"\"Method used to set a left child for the node.\n",
    "        If the left child is empty (None) then we instantiate a new Node with the given value.\n",
    "        If the left child is _not_ empty, then we create a new instance of a node. The left child of this new node\n",
    "        becomes the left child of this current instance and then we set the left child of this instance equal to the new\n",
    "        node. Basically, if it has a left child, we squish a new node in between.\n",
    "        \n",
    "        Parameters\n",
    "        ----------\n",
    "        child_value: int\n",
    "                     Value to be given to a new Node instance that is going to become this node's left child.\n",
    "        \"\"\"\n",
    "        if self.left is None:\n",
    "            self.left = Node(child_value)\n",
    "        else:\n",
    "            new = Node(child_value)  # Instantiate new node\n",
    "            new.left = self.left  # The new node inherits the left child\n",
    "            self.left = new  # The new node becomes the new left child\n",
    "\n",
    "    def append_right_child(self, child_value):\n",
    "        \"\"\"Same as `append_left_child` but with the right child.\n",
    "        \n",
    "        Parameters\n",
    "        ----------\n",
    "        child_value: int\n",
    "                     Value to be given to a new Node instance that is going to become this node's right child.\n",
    "        \"\"\"\n",
    "        if self.right is None:\n",
    "            self.right = Node(child_value)\n",
    "        else:\n",
    "            new = Node(child_value)\n",
    "            new.right = self.right\n",
    "            self.right = new\n",
    "\n",
    "    def __str__(self):\n",
    "        \"\"\"Prints the node in pretty-print style.\"\"\"\n",
    "        s = \"     |{}|     \\n\".format(self.value)\n",
    "        if self.right is not None and self.left is not None:\n",
    "            s += \"     / \\     \\n\"\n",
    "            s += \"   |{}| |{}|    \".format(self.left.value, self.right.value)\n",
    "        return s\n",
    "\n",
    "\n",
    "def print_tree():\n",
    "    \"\"\"Simple function to print a tree.\"\"\"\n",
    "    print(r'     |1|     ')\n",
    "    print(r'     / \\     ')\n",
    "    print(r'   |3| |8|   ')\n"
   ]
  },
  {
   "cell_type": "markdown",
   "metadata": {},
   "source": [
    "To document this module and the class/functions defined in it we need to create an `.rst` file documenting it, for instance one that looks as follows:"
   ]
  },
  {
   "cell_type": "markdown",
   "metadata": {},
   "source": [
    "```\n",
    "Trees module\n",
    "--------------------------------------\n",
    "\n",
    ".. automodule:: Trees\n",
    "    :members:\n",
    "```"
   ]
  },
  {
   "cell_type": "markdown",
   "metadata": {},
   "source": [
    "Finally, we add this `.rst` file to the `index.rst` table of contents."
   ]
  },
  {
   "cell_type": "markdown",
   "metadata": {},
   "source": [
    "```\n",
    ".. Bootstrap Filter documentation master file, created by\n",
    "   sphinx-quickstart on Tue May 26 10:18:17 2020.\n",
    "   You can adapt this file completely to your liking, but it should at least\n",
    "   contain the root `toctree` directive.\n",
    "\n",
    "Welcome to the Python Documenting and Testing Portfolio's documentation!\n",
    "========================================================================\n",
    "\n",
    ".. image:: images/hhm.png\n",
    "\n",
    ".. toctree::\n",
    "   :maxdepth: 3\n",
    "   :caption: Contents:\n",
    "\n",
    "   BootstrapFilter\n",
    "   Trees\n",
    "\n",
    "\n",
    "Indices and tables\n",
    "==================\n",
    "\n",
    "* :ref:`genindex`\n",
    "* :ref:`modindex`\n",
    "* :ref:`search`\n",
    "\n",
    "```"
   ]
  },
  {
   "cell_type": "markdown",
   "metadata": {},
   "source": [
    "We can also change the theme from `alabaster` to `sphinx_rtd_theme` in the `config.py` file, to make the documentation looks prettier, however to make this work we also need to install the corresponding package. So we go into `Settings > Project: Intermediate Python > Project Interpreter` and add `sphinx_rtd_theme`, as shown below."
   ]
  },
  {
   "cell_type": "markdown",
   "metadata": {},
   "source": [
    "![](images/sphinxrtd.png)"
   ]
  },
  {
   "cell_type": "markdown",
   "metadata": {},
   "source": [
    "To enable Google-style or Numpy-style documentation (as the one used here) we need to add another extension: `'sphinx.ext.napoleon'`. Finally, the documentation will look as follows (with some extra embellishments)"
   ]
  },
  {
   "cell_type": "markdown",
   "metadata": {},
   "source": [
    "![](PycharmProjects/IntermediatePython/docs/source/images/doc_index.png)"
   ]
  },
  {
   "cell_type": "markdown",
   "metadata": {},
   "source": [
    "The complete repository can be found at https://github.com/MauroCE/PythonDocumentationAndTesting"
   ]
  },
  {
   "cell_type": "code",
   "execution_count": null,
   "metadata": {},
   "outputs": [],
   "source": []
  }
 ],
 "metadata": {
  "kernelspec": {
   "display_name": "Python 3",
   "language": "python",
   "name": "python3"
  },
  "language_info": {
   "codemirror_mode": {
    "name": "ipython",
    "version": 3
   },
   "file_extension": ".py",
   "mimetype": "text/x-python",
   "name": "python",
   "nbconvert_exporter": "python",
   "pygments_lexer": "ipython3",
   "version": "3.7.4"
  }
 },
 "nbformat": 4,
 "nbformat_minor": 4
}
